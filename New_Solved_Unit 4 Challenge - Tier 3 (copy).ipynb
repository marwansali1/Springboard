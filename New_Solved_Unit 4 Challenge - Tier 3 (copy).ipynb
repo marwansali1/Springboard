{
  "metadata": {
    "kernelspec": {
      "name": "python",
      "display_name": "Pyolite",
      "language": "python"
    },
    "language_info": {
      "codemirror_mode": {
        "name": "python",
        "version": 3
      },
      "file_extension": ".py",
      "mimetype": "text/x-python",
      "name": "python",
      "nbconvert_exporter": "python",
      "pygments_lexer": "ipython3",
      "version": "3.8"
    },
    "colab": {
      "name": "Springboard Data Science Career Track Unit 4 Challenge - Tier 3 Complete .ipynb",
      "provenance": [],
      "collapsed_sections": []
    }
  },
  "nbformat_minor": 4,
  "nbformat": 4,
  "cells": [
    {
      "cell_type": "markdown",
      "source": "# Springboard Data Science Career Track Unit 4 Challenge - Tier 3 Complete\n\n## Objectives\nHey! Great job getting through those challenging DataCamp courses. You're learning a lot in a short span of time. \n\nIn this notebook, you're going to apply the skills you've been learning, bridging the gap between the controlled environment of DataCamp and the *slightly* messier work that data scientists do with actual datasets!\n\nHere’s the mystery we’re going to solve: ***which boroughs of London have seen the greatest increase in housing prices, on average, over the last two decades?***\n\n\nA borough is just a fancy word for district. You may be familiar with the five boroughs of New York… well, there are 32 boroughs within Greater London [(here's some info for the curious)](https://en.wikipedia.org/wiki/London_boroughs). Some of them are more desirable areas to live in, and the data will reflect that with a greater rise in housing prices.\n\n***This is the Tier 3 notebook, which means it's not filled in at all: we'll just give you the skeleton of a project, the brief and the data. It's up to you to play around with it and see what you can find out! Good luck! If you struggle, feel free to look at easier tiers for help; but try to dip in and out of them, as the more independent work you do, the better it is for your learning!***\n\nThis challenge will make use of only what you learned in the following DataCamp courses: \n- Prework courses (Introduction to Python for Data Science, Intermediate Python for Data Science)\n- Data Types for Data Science\n- Python Data Science Toolbox (Part One) \n- pandas Foundations\n- Manipulating DataFrames with pandas\n- Merging DataFrames with pandas\n\nOf the tools, techniques and concepts in the above DataCamp courses, this challenge should require the application of the following: \n- **pandas**\n    - **data ingestion and inspection** (pandas Foundations, Module One) \n    - **exploratory data analysis** (pandas Foundations, Module Two)\n    - **tidying and cleaning** (Manipulating DataFrames with pandas, Module Three) \n    - **transforming DataFrames** (Manipulating DataFrames with pandas, Module One)\n    - **subsetting DataFrames with lists** (Manipulating DataFrames with pandas, Module One) \n    - **filtering DataFrames** (Manipulating DataFrames with pandas, Module One) \n    - **grouping data** (Manipulating DataFrames with pandas, Module Four) \n    - **melting data** (Manipulating DataFrames with pandas, Module Three) \n    - **advanced indexing** (Manipulating DataFrames with pandas, Module Four) \n- **matplotlib** (Intermediate Python for Data Science, Module One)\n- **fundamental data types** (Data Types for Data Science, Module One) \n- **dictionaries** (Intermediate Python for Data Science, Module Two)\n- **handling dates and times** (Data Types for Data Science, Module Four)\n- **function definition** (Python Data Science Toolbox - Part One, Module One)\n- **default arguments, variable length, and scope** (Python Data Science Toolbox - Part One, Module Two) \n- **lambda functions and error handling** (Python Data Science Toolbox - Part One, Module Four) ",
      "metadata": {
        "id": "Tia3MP1SJpgj",
        "colab_type": "text"
      }
    },
    {
      "cell_type": "markdown",
      "source": "## The Data Science Pipeline\n\nThis is Tier Three, so we'll get you started. But after that, it's all in your hands! When you feel done with your investigations, look back over what you've accomplished, and prepare a quick presentation of your findings for the next mentor meeting. \n\nData Science is magical. In this case study, you'll get to apply some complex machine learning algorithms. But as  [David Spiegelhalter](https://www.youtube.com/watch?v=oUs1uvsz0Ok) reminds us, there is no substitute for simply **taking a really, really good look at the data.** Sometimes, this is all we need to answer our question.\n\nData Science projects generally adhere to the four stages of Data Science Pipeline:\n1. Sourcing and loading \n2. Cleaning, transforming, and visualizing \n3. Modeling \n4. Evaluating and concluding \n",
      "metadata": {
        "id": "Ipgd2nV8Jpgl",
        "colab_type": "text"
      }
    },
    {
      "cell_type": "markdown",
      "source": "### 1. Sourcing and Loading \n\nAny Data Science project kicks off by importing  ***pandas***. The documentation of this wonderful library can be found [here](https://pandas.pydata.org/). As you've seen, pandas is conveniently connected to the [Numpy](http://www.numpy.org/) and [Matplotlib](https://matplotlib.org/) libraries. \n\n***Hint:*** This part of the data science pipeline will test those skills you acquired in the pandas Foundations course, Module One. ",
      "metadata": {
        "id": "zswDqbefJpgm",
        "colab_type": "text"
      }
    },
    {
      "cell_type": "markdown",
      "source": "#### 1.1. Importing Libraries",
      "metadata": {
        "id": "aEau5nEvJpgm",
        "colab_type": "text"
      }
    },
    {
      "cell_type": "code",
      "source": "# Let's import the pandas, numpy libraries as pd, and np respectively. \nimport pandas as pd\nimport numpy as np\n# Load the pyplot collection of functions from matplotlib, as plt \nfrom matplotlib import pyplot as plt",
      "metadata": {
        "id": "7Bt_Q_oPJpgn",
        "colab_type": "code",
        "colab": {}
      },
      "execution_count": null,
      "outputs": []
    },
    {
      "cell_type": "markdown",
      "source": "#### 1.2.  Loading the data\nYour data comes from the [London Datastore](https://data.london.gov.uk/): a free, open-source data-sharing portal for London-oriented datasets. ",
      "metadata": {
        "id": "koUrawxsJpgq",
        "colab_type": "text"
      }
    },
    {
      "cell_type": "code",
      "source": "# First, make a variable called url_LondonHousePrices, and assign it the following link, enclosed in quotation-marks as a string:\n# https://data.london.gov.uk/download/uk-house-price-index/70ac0766-8902-4eb5-aab5-01951aaed773/UK%20House%20price%20index.xls\n\npath = \"https://data.london.gov.uk/download/uk-house-price-index/70ac0766-8902-4eb5-aab5-01951aaed773/UK%20House%20price%20index.xls\"\n\n# The dataset we're interested in contains the Average prices of the houses, and is actually on a particular sheet of the Excel file. \n# As a result, we need to specify the sheet name in the read_excel() method.\n# Put this data into a variable called properties.  \nproperties = pd.read_excel(url_LondonHousePrices, sheet_name='Average price', index_col= None)",
      "metadata": {
        "id": "AiLiD4v3Jpgr",
        "colab_type": "code",
        "colab": {}
      },
      "execution_count": null,
      "outputs": []
    },
    {
      "cell_type": "markdown",
      "source": "### 2. Cleaning, transforming, and visualizing\nThis second stage is arguably the most important part of any Data Science project. The first thing to do is take a proper look at the data. Cleaning forms the majority of this stage, and can be done both before or after Transformation.\n\nThe end goal of data cleaning is to have tidy data. When data is tidy: \n\n1. Each variable has a column.\n2. Each observation forms a row.\n\nKeep the end goal in mind as you move through this process, every step will take you closer. \n\n\n\n***Hint:*** This part of the data science pipeline should test those skills you acquired in: \n- Intermediate Python for data science, all modules.\n- pandas Foundations, all modules. \n- Manipulating DataFrames with pandas, all modules.\n- Data Types for Data Science, Module Four.\n- Python Data Science Toolbox - Part One, all modules",
      "metadata": {
        "id": "POukEJXgJpgu",
        "colab_type": "text"
      }
    },
    {
      "cell_type": "markdown",
      "source": "**2.1. Exploring your data** \n\nThink about your pandas functions for checking out a dataframe. ",
      "metadata": {
        "id": "Te0Q548tnzZa",
        "colab_type": "text"
      }
    },
    {
      "cell_type": "code",
      "source": "data\ndata.info()",
      "metadata": {
        "id": "Rxirxw_qoAJa",
        "colab_type": "code",
        "colab": {}
      },
      "execution_count": null,
      "outputs": []
    },
    {
      "cell_type": "markdown",
      "source": "**2.2. Cleaning the data**\n\nYou might find you need to transpose your dataframe, check out what its row indexes are, and reset the index. You  also might find you need to assign the values of the first row to your column headings  . (Hint: recall the .columns feature of DataFrames, as well as the iloc[] method).\n\nDon't be afraid to use StackOverflow for help  with this.",
      "metadata": {
        "id": "tE9Sqt9-oAta",
        "colab_type": "text"
      }
    },
    {
      "cell_type": "code",
      "source": "data.dropna(how='all', axis=1, inplace=True)\ndata.drop(columns=['City of London'],inplace = True)\ndata.rename(columns={'Unnamed: 0': 'Date'}, inplace=True)\ndata = data.loc[1:, 'Date': 'Westminster']",
      "metadata": {
        "id": "cdAu1A3YoH_r",
        "colab_type": "code",
        "colab": {}
      },
      "execution_count": null,
      "outputs": []
    },
    {
      "cell_type": "markdown",
      "source": "**2.3. Cleaning the data (part 2)**\n\nYou might we have to **rename** a couple columns. How do you do this? The clue's pretty bold...",
      "metadata": {
        "id": "o1uLbJAsoIjK",
        "colab_type": "text"
      }
    },
    {
      "cell_type": "code",
      "source": "data.columns",
      "metadata": {
        "id": "GKkmn1AnoVZS",
        "colab_type": "code",
        "colab": {}
      },
      "execution_count": null,
      "outputs": []
    },
    {
      "cell_type": "markdown",
      "source": "**2.4.Transforming the data**\n\nRemember what Wes McKinney said about tidy data? \n\nYou might need to **melt** your DataFrame here. ",
      "metadata": {
        "id": "jy8BzXHmoWEw",
        "colab_type": "text"
      }
    },
    {
      "cell_type": "code",
      "source": "data = pd.melt(data, id_vars = 'Date', var_name='District', value_name='Price')\ndata.Price = data.Price.astype('float')",
      "metadata": {
        "id": "S2wM0qLuo2Zt",
        "colab_type": "code",
        "colab": {}
      },
      "execution_count": null,
      "outputs": []
    },
    {
      "cell_type": "markdown",
      "source": "Remember to make sure your column data types are all correct. Average prices, for example, should be floating point numbers... ",
      "metadata": {
        "id": "7kIsgAo7o3mf",
        "colab_type": "text"
      }
    },
    {
      "cell_type": "code",
      "source": "data.info()",
      "metadata": {
        "id": "ZcR4IHbcpOaq",
        "colab_type": "code",
        "colab": {}
      },
      "execution_count": null,
      "outputs": []
    },
    {
      "cell_type": "markdown",
      "source": "**2.5. Cleaning the data (part 3)**\n\nDo we have an equal number of observations in the ID, Average Price, Month, and London Borough columns? Remember that there are only 32 London Boroughs. How many entries do you have in that column? \n\nCheck out the contents of the London Borough column, and if you find null values, get rid of them however you see fit. ",
      "metadata": {
        "id": "knLUXHLypOtw",
        "colab_type": "text"
      }
    },
    {
      "cell_type": "code",
      "source": "data.District.nunique()",
      "metadata": {
        "id": "BnvTW5a3p0fC",
        "colab_type": "code",
        "colab": {}
      },
      "execution_count": null,
      "outputs": []
    },
    {
      "cell_type": "markdown",
      "source": "**2.6. Visualizing the data**\n\nTo visualize the data, why not subset on a particular London Borough? Maybe do a line plot of Month against Average Price?",
      "metadata": {
        "id": "PGEx6mJsp6dG",
        "colab_type": "text"
      }
    },
    {
      "cell_type": "code",
      "source": "data['year'] = pd.DatetimeIndex(data.Date).year\nlast_20_yrs = data.loc[data.year >= 2001].copy()\nlast_20_yrs = last_20_yrs.groupby(['District', 'year']).Price.mean().reset_index().rename(columns={'Price': 'avg_price'})\nlast_20_yrs",
      "metadata": {
        "id": "nAg5pT9cqHAR",
        "colab_type": "code",
        "colab": {}
      },
      "execution_count": null,
      "outputs": []
    },
    {
      "cell_type": "markdown",
      "source": "To limit the number of data points you have, you might want to extract the year from every month value your *Month* column. \n\nTo this end, you *could* apply a ***lambda function***. Your logic could work as follows:\n1. look through the `Month` column\n2. extract the year from each individual value in that column \n3. store that corresponding year as separate column. \n\nWhether you go ahead with this is up to you. Just so long as you answer our initial brief: which boroughs of London have seen the greatest house price increase, on average, over the past two decades? ",
      "metadata": {
        "id": "aWTPqSJeqHnC",
        "colab_type": "text"
      }
    },
    {
      "cell_type": "code",
      "source": "last_20_yrs['pt_change'] = last_20_yrs.groupby('District').avg_price.pct_change(periods=19)\nlast_20_yrs.loc[last_20_yrs.pt_change == last_20_yrs.pt_change.max(), ['District','pt_change']]",
      "metadata": {
        "id": "e0DF92cyqnu8",
        "colab_type": "code",
        "colab": {}
      },
      "execution_count": null,
      "outputs": []
    },
    {
      "cell_type": "markdown",
      "source": "**3. Modeling**\n\nConsider creating a function that will calculate a ratio of house prices, comparing the price of a house in 2018 to the price in 1998.\n\nConsider calling this function create_price_ratio.\n\nYou'd want this function to:\n1. Take a filter of dfg, specifically where this filter constrains the London_Borough, as an argument. For example, one admissible argument should be: dfg[dfg['London_Borough']=='Camden'].\n2. Get the Average Price for that Borough, for the years 1998 and 2018.\n4. Calculate the ratio of the Average Price for 1998 divided by the Average Price for 2018.\n5. Return that ratio.\n\nOnce you've written this function, you ultimately want to use it to iterate through all the unique London_Boroughs and work out the ratio capturing the difference of house prices between 1998 and 2018.\n\nBear in mind: you don't have to write a function like this if you don't want to. If you can solve the brief otherwise, then great! \n\n***Hint***: This section should test the skills you acquired in:\n- Python Data Science Toolbox - Part One, all modules",
      "metadata": {
        "id": "2knuTxAEqoJ4",
        "colab_type": "text"
      }
    },
    {
      "cell_type": "code",
      "source": "In the last 20 years, the burrough that has seen the greatest change in average housing prices is Hackney.",
      "metadata": {
        "id": "cKTyr437UgDa",
        "colab_type": "code",
        "colab": {},
        "trusted": true
      },
      "execution_count": 1,
      "outputs": [
        {
          "ename": "<class 'SyntaxError'>",
          "evalue": "invalid syntax (<ipython-input-1-f914638dc809>, line 1)",
          "traceback": [
            "\u001b[0;36m  Input \u001b[0;32mIn [1]\u001b[0;36m\u001b[0m\n\u001b[0;31m    In the last 20 years, the burrough that has seen the greatest change in average housing prices is Hackney.\u001b[0m\n\u001b[0m       ^\u001b[0m\n\u001b[0;31mSyntaxError\u001b[0m\u001b[0;31m:\u001b[0m invalid syntax\n"
          ],
          "output_type": "error"
        }
      ]
    },
    {
      "cell_type": "markdown",
      "source": "### 4. Conclusion\nWhat can you conclude? Type out your conclusion below. \n\nLook back at your notebook. Think about how you might summarize what you have done, and prepare a quick presentation on it to your mentor at your next meeting. \n\nWe hope you enjoyed this practical project. It should have consolidated your data hygiene and pandas skills by looking at a real-world problem involving just the kind of dataset you might encounter as a budding data scientist. Congratulations, and looking forward to seeing you at the next step in the course! ",
      "metadata": {
        "id": "NzYUI7FxJpgv",
        "colab_type": "text",
        "jp-MarkdownHeadingCollapsed": true,
        "tags": []
      }
    },
    {
      "cell_type": "code",
      "source": "In the last 20 years, the burrough that has seen the greatest change in average housing prices is Hackney.",
      "metadata": {
        "trusted": true
      },
      "execution_count": 2,
      "outputs": [
        {
          "ename": "<class 'SyntaxError'>",
          "evalue": "invalid syntax (<ipython-input-2-f914638dc809>, line 1)",
          "traceback": [
            "\u001b[0;36m  Input \u001b[0;32mIn [2]\u001b[0;36m\u001b[0m\n\u001b[0;31m    In the last 20 years, the burrough that has seen the greatest change in average housing prices is Hackney.\u001b[0m\n\u001b[0m       ^\u001b[0m\n\u001b[0;31mSyntaxError\u001b[0m\u001b[0;31m:\u001b[0m invalid syntax\n"
          ],
          "output_type": "error"
        }
      ]
    },
    {
      "cell_type": "code",
      "source": "",
      "metadata": {},
      "execution_count": null,
      "outputs": []
    }
  ]
}